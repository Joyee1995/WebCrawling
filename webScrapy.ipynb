{
 "cells": [
  {
   "cell_type": "markdown",
   "metadata": {},
   "source": [
    "import requests as rs\n",
    "from bs4 import BeautifulSoup"
   ]
  },
  {
   "cell_type": "markdown",
   "metadata": {},
   "source": [
    "payload={\n",
    "    'StartStationName':  '台北站',\n",
    "'EndStationName':  '左營站',\n",
    "'SearchType': 'S',\n",
    "'StartStation': '977abb69-413a-4ccf-a109-0272c24fd490',\n",
    "'EndStation': 'f2519629-5973-4d08-913b-479cce78a356',\n",
    "'DepartueSearchDate': '2020/04/29',\n",
    "'DepartueSearchTime': '09:00',\n",
    "}\n",
    "res=rs.post('https://www.thsrc.com.tw/tw/TimeTable/SearchResult',data=payload)\n",
    "soup=BeautifulSoup(res.text,'lxml')\n",
    "# print(soup)\n",
    "soup.select('.trip_show td')"
   ]
  },
  {
   "cell_type": "code",
   "execution_count": 1,
   "metadata": {},
   "outputs": [],
   "source": [
    "import requests\n",
    "import pandas as pd\n",
    "url ='https://data.ntpc.gov.tw/od/data/api/54DDDC93-589C-4858-9C95-18B2046CC1FC?$format=json'"
   ]
  },
  {
   "cell_type": "code",
   "execution_count": 2,
   "metadata": {},
   "outputs": [],
   "source": [
    "res=requests.get(url)\n",
    "data_list=res.json()"
   ]
  },
  {
   "cell_type": "code",
   "execution_count": 91,
   "metadata": {},
   "outputs": [
    {
     "data": {
      "text/html": [
       "<div>\n",
       "<style scoped>\n",
       "    .dataframe tbody tr th:only-of-type {\n",
       "        vertical-align: middle;\n",
       "    }\n",
       "\n",
       "    .dataframe tbody tr th {\n",
       "        vertical-align: top;\n",
       "    }\n",
       "\n",
       "    .dataframe thead th {\n",
       "        text-align: right;\n",
       "    }\n",
       "</style>\n",
       "<table border=\"1\" class=\"dataframe\">\n",
       "  <thead>\n",
       "    <tr style=\"text-align: right;\">\n",
       "      <th></th>\n",
       "      <th>sno</th>\n",
       "      <th>sna</th>\n",
       "      <th>tot</th>\n",
       "      <th>sbi</th>\n",
       "      <th>mday</th>\n",
       "      <th>lat</th>\n",
       "      <th>lng</th>\n",
       "      <th>ar</th>\n",
       "      <th>sareaen</th>\n",
       "      <th>snaen</th>\n",
       "      <th>aren</th>\n",
       "      <th>bemp</th>\n",
       "      <th>act</th>\n",
       "    </tr>\n",
       "    <tr>\n",
       "      <th>sarea</th>\n",
       "      <th></th>\n",
       "      <th></th>\n",
       "      <th></th>\n",
       "      <th></th>\n",
       "      <th></th>\n",
       "      <th></th>\n",
       "      <th></th>\n",
       "      <th></th>\n",
       "      <th></th>\n",
       "      <th></th>\n",
       "      <th></th>\n",
       "      <th></th>\n",
       "      <th></th>\n",
       "    </tr>\n",
       "  </thead>\n",
       "  <tbody>\n",
       "    <tr>\n",
       "      <th>三峽區</th>\n",
       "      <td>1243</td>\n",
       "      <td>三峽區公所(三峽老街)</td>\n",
       "      <td>42</td>\n",
       "      <td>6</td>\n",
       "      <td>20200425103341</td>\n",
       "      <td>24.934187</td>\n",
       "      <td>121.369158</td>\n",
       "      <td>中山路17號(公所旁徒步區)(鄰近三峽清水祖師廟/三峽歷史文物館/三峽老街)</td>\n",
       "      <td>Sanxia Dist.</td>\n",
       "      <td>Sanxia District Office(Sanxia Old Street)</td>\n",
       "      <td>No.17, Zhongshan Rd.</td>\n",
       "      <td>36</td>\n",
       "      <td>1</td>\n",
       "    </tr>\n",
       "    <tr>\n",
       "      <th>三峽區</th>\n",
       "      <td>1250</td>\n",
       "      <td>國立臺北大學(三峽校區)</td>\n",
       "      <td>58</td>\n",
       "      <td>13</td>\n",
       "      <td>20200425103316</td>\n",
       "      <td>24.945553</td>\n",
       "      <td>121.373260</td>\n",
       "      <td>學勤路大學路口(面校門右側人行道)(鄰近國立台北大學)</td>\n",
       "      <td>Sanxia Dist.</td>\n",
       "      <td>National Taipei University(Sanxia Campus)</td>\n",
       "      <td>Xueqin Rd. / Daxue Rd. intersection</td>\n",
       "      <td>42</td>\n",
       "      <td>1</td>\n",
       "    </tr>\n",
       "    <tr>\n",
       "      <th>三峽區</th>\n",
       "      <td>1362</td>\n",
       "      <td>安溪國小</td>\n",
       "      <td>36</td>\n",
       "      <td>22</td>\n",
       "      <td>20200425103316</td>\n",
       "      <td>24.930621</td>\n",
       "      <td>121.372344</td>\n",
       "      <td>中華路61號(對面路側)(鄰近李梅樹紀念館)</td>\n",
       "      <td>Sanxia Dist.</td>\n",
       "      <td>Anxi Elementary School</td>\n",
       "      <td>No.61, Zhonghua Rd., Sanxia Dist.</td>\n",
       "      <td>14</td>\n",
       "      <td>1</td>\n",
       "    </tr>\n",
       "    <tr>\n",
       "      <th>三峽區</th>\n",
       "      <td>1287</td>\n",
       "      <td>恩主公醫院</td>\n",
       "      <td>66</td>\n",
       "      <td>37</td>\n",
       "      <td>20200425103344</td>\n",
       "      <td>24.938912</td>\n",
       "      <td>121.363553</td>\n",
       "      <td>復興路372號(對面公車亭後方人行道)</td>\n",
       "      <td>Sanxia Dist.</td>\n",
       "      <td>En Chu Kong Hospital</td>\n",
       "      <td>No.372, Fuxing Rd.(oppsite)</td>\n",
       "      <td>28</td>\n",
       "      <td>1</td>\n",
       "    </tr>\n",
       "    <tr>\n",
       "      <th>三峽區</th>\n",
       "      <td>1458</td>\n",
       "      <td>新北市客家文化園區</td>\n",
       "      <td>38</td>\n",
       "      <td>22</td>\n",
       "      <td>20200425103325</td>\n",
       "      <td>24.941729</td>\n",
       "      <td>121.359538</td>\n",
       "      <td>隆恩街239號(右側)</td>\n",
       "      <td>Sanxia Dist.</td>\n",
       "      <td>Hakka Museum New Taipei City Government</td>\n",
       "      <td>No.239, Long’en St., Sanxia Dist.</td>\n",
       "      <td>16</td>\n",
       "      <td>1</td>\n",
       "    </tr>\n",
       "    <tr>\n",
       "      <th>...</th>\n",
       "      <td>...</td>\n",
       "      <td>...</td>\n",
       "      <td>...</td>\n",
       "      <td>...</td>\n",
       "      <td>...</td>\n",
       "      <td>...</td>\n",
       "      <td>...</td>\n",
       "      <td>...</td>\n",
       "      <td>...</td>\n",
       "      <td>...</td>\n",
       "      <td>...</td>\n",
       "      <td>...</td>\n",
       "      <td>...</td>\n",
       "    </tr>\n",
       "    <tr>\n",
       "      <th>鶯歌區</th>\n",
       "      <td>1198</td>\n",
       "      <td>鶯歌國中</td>\n",
       "      <td>34</td>\n",
       "      <td>17</td>\n",
       "      <td>20200425103333</td>\n",
       "      <td>24.951734</td>\n",
       "      <td>121.342963</td>\n",
       "      <td>建國路420號對面人行道(鄰近新太源藝術工坊)</td>\n",
       "      <td>Yingge Dist.</td>\n",
       "      <td>Yingge Junior High School</td>\n",
       "      <td>No.420, Jianguo Rd.(opposite)</td>\n",
       "      <td>16</td>\n",
       "      <td>1</td>\n",
       "    </tr>\n",
       "    <tr>\n",
       "      <th>鶯歌區</th>\n",
       "      <td>1206</td>\n",
       "      <td>新北市立鶯歌陶瓷博物館</td>\n",
       "      <td>40</td>\n",
       "      <td>10</td>\n",
       "      <td>20200425103342</td>\n",
       "      <td>24.949549</td>\n",
       "      <td>121.352832</td>\n",
       "      <td>鶯歌區文化路407號(鄰近鶯歌陶瓷博物館)</td>\n",
       "      <td>Yingge Dist.</td>\n",
       "      <td>New Taipei City Yingge Ceramics  Museum</td>\n",
       "      <td>No.407, Wenhua Rd.</td>\n",
       "      <td>30</td>\n",
       "      <td>1</td>\n",
       "    </tr>\n",
       "    <tr>\n",
       "      <th>鶯歌區</th>\n",
       "      <td>1467</td>\n",
       "      <td>南雅育智路口</td>\n",
       "      <td>46</td>\n",
       "      <td>25</td>\n",
       "      <td>20200425103325</td>\n",
       "      <td>24.953961</td>\n",
       "      <td>121.345824</td>\n",
       "      <td>南雅路491號(對面)</td>\n",
       "      <td>Yingge Dist.</td>\n",
       "      <td>Nanya &amp; Yuzhi Rd. Intersection</td>\n",
       "      <td>No.491, Nanya Rd., Yingge Dist.(opposite)</td>\n",
       "      <td>20</td>\n",
       "      <td>1</td>\n",
       "    </tr>\n",
       "    <tr>\n",
       "      <th>鶯歌區</th>\n",
       "      <td>1203</td>\n",
       "      <td>鶯歌陶瓷老街</td>\n",
       "      <td>44</td>\n",
       "      <td>15</td>\n",
       "      <td>20200425103324</td>\n",
       "      <td>24.952226</td>\n",
       "      <td>121.351035</td>\n",
       "      <td>鶯歌區尖山埔路/國慶街(停車場內)(鄰近鶯歌陶瓷老街(鶯歌老街)/鶯歌光點美學館)</td>\n",
       "      <td>Yingge Dist.</td>\n",
       "      <td>Yingge ceramics old street</td>\n",
       "      <td>Jianshanpu Rd./Guoqing St.</td>\n",
       "      <td>25</td>\n",
       "      <td>1</td>\n",
       "    </tr>\n",
       "    <tr>\n",
       "      <th>鶯歌區</th>\n",
       "      <td>1345</td>\n",
       "      <td>永吉國小</td>\n",
       "      <td>36</td>\n",
       "      <td>18</td>\n",
       "      <td>20200425103337</td>\n",
       "      <td>24.958747</td>\n",
       "      <td>121.333095</td>\n",
       "      <td>鶯歌區德昌二街39號(對面人行道)</td>\n",
       "      <td>Yingge Dist.</td>\n",
       "      <td>Yongchi elementary school</td>\n",
       "      <td>No.39, Dechang 2nd St., Yingge Dist.</td>\n",
       "      <td>18</td>\n",
       "      <td>1</td>\n",
       "    </tr>\n",
       "  </tbody>\n",
       "</table>\n",
       "<p>608 rows × 13 columns</p>\n",
       "</div>"
      ],
      "text/plain": [
       "        sno           sna tot sbi            mday        lat         lng  \\\n",
       "sarea                                                                      \n",
       "三峽區    1243   三峽區公所(三峽老街)  42   6  20200425103341  24.934187  121.369158   \n",
       "三峽區    1250  國立臺北大學(三峽校區)  58  13  20200425103316  24.945553  121.373260   \n",
       "三峽區    1362          安溪國小  36  22  20200425103316  24.930621  121.372344   \n",
       "三峽區    1287         恩主公醫院  66  37  20200425103344  24.938912  121.363553   \n",
       "三峽區    1458     新北市客家文化園區  38  22  20200425103325  24.941729  121.359538   \n",
       "...     ...           ...  ..  ..             ...        ...         ...   \n",
       "鶯歌區    1198          鶯歌國中  34  17  20200425103333  24.951734  121.342963   \n",
       "鶯歌區    1206   新北市立鶯歌陶瓷博物館  40  10  20200425103342  24.949549  121.352832   \n",
       "鶯歌區    1467        南雅育智路口  46  25  20200425103325  24.953961  121.345824   \n",
       "鶯歌區    1203        鶯歌陶瓷老街  44  15  20200425103324  24.952226  121.351035   \n",
       "鶯歌區    1345          永吉國小  36  18  20200425103337  24.958747  121.333095   \n",
       "\n",
       "                                              ar       sareaen  \\\n",
       "sarea                                                            \n",
       "三峽區       中山路17號(公所旁徒步區)(鄰近三峽清水祖師廟/三峽歷史文物館/三峽老街)  Sanxia Dist.   \n",
       "三峽區                  學勤路大學路口(面校門右側人行道)(鄰近國立台北大學)  Sanxia Dist.   \n",
       "三峽區                       中華路61號(對面路側)(鄰近李梅樹紀念館)  Sanxia Dist.   \n",
       "三峽區                          復興路372號(對面公車亭後方人行道)  Sanxia Dist.   \n",
       "三峽區                                  隆恩街239號(右側)  Sanxia Dist.   \n",
       "...                                          ...           ...   \n",
       "鶯歌區                      建國路420號對面人行道(鄰近新太源藝術工坊)  Yingge Dist.   \n",
       "鶯歌區                        鶯歌區文化路407號(鄰近鶯歌陶瓷博物館)  Yingge Dist.   \n",
       "鶯歌區                                  南雅路491號(對面)  Yingge Dist.   \n",
       "鶯歌區    鶯歌區尖山埔路/國慶街(停車場內)(鄰近鶯歌陶瓷老街(鶯歌老街)/鶯歌光點美學館)  Yingge Dist.   \n",
       "鶯歌區                            鶯歌區德昌二街39號(對面人行道)  Yingge Dist.   \n",
       "\n",
       "                                           snaen  \\\n",
       "sarea                                              \n",
       "三峽區    Sanxia District Office(Sanxia Old Street)   \n",
       "三峽區    National Taipei University(Sanxia Campus)   \n",
       "三峽區                       Anxi Elementary School   \n",
       "三峽區                         En Chu Kong Hospital   \n",
       "三峽區      Hakka Museum New Taipei City Government   \n",
       "...                                          ...   \n",
       "鶯歌區                    Yingge Junior High School   \n",
       "鶯歌區      New Taipei City Yingge Ceramics  Museum   \n",
       "鶯歌區               Nanya & Yuzhi Rd. Intersection   \n",
       "鶯歌區                   Yingge ceramics old street   \n",
       "鶯歌區                    Yongchi elementary school   \n",
       "\n",
       "                                            aren bemp act  \n",
       "sarea                                                      \n",
       "三峽區                         No.17, Zhongshan Rd.   36   1  \n",
       "三峽區          Xueqin Rd. / Daxue Rd. intersection   42   1  \n",
       "三峽區            No.61, Zhonghua Rd., Sanxia Dist.   14   1  \n",
       "三峽區                  No.372, Fuxing Rd.(oppsite)   28   1  \n",
       "三峽區            No.239, Long’en St., Sanxia Dist.   16   1  \n",
       "...                                          ...  ...  ..  \n",
       "鶯歌區                No.420, Jianguo Rd.(opposite)   16   1  \n",
       "鶯歌區                           No.407, Wenhua Rd.   30   1  \n",
       "鶯歌區    No.491, Nanya Rd., Yingge Dist.(opposite)   20   1  \n",
       "鶯歌區                   Jianshanpu Rd./Guoqing St.   25   1  \n",
       "鶯歌區         No.39, Dechang 2nd St., Yingge Dist.   18   1  \n",
       "\n",
       "[608 rows x 13 columns]"
      ]
     },
     "execution_count": 91,
     "metadata": {},
     "output_type": "execute_result"
    }
   ],
   "source": [
    "df=pd.DataFrame(data_list)\n",
    "x=list(df['sarea'].unique())\n",
    "df=df.set_index(['sarea'])\n",
    "# print(df)\n",
    "df2=df.sort_index()\n",
    "# df2=df.loc[x,:]\n",
    "\n",
    "df.head()\n",
    "df['sbi']=list(map(int,df['sbi']))\n",
    "sbi_filter=df['sbi']>18\n",
    "df_new=df.loc[sbi_filter]\n",
    "# print(x)\n",
    "df2\n",
    "# red_vs_blue = {'Obama':'blue','Romney':'red'}\n",
    "# election['color'] = election['winner'].map(red_vs_blue)"
   ]
  },
  {
   "cell_type": "code",
   "execution_count": 52,
   "metadata": {},
   "outputs": [
    {
     "data": {
      "text/plain": [
       "Index(['sno', 'sna', 'tot', 'sbi', 'mday', 'lat', 'lng', 'ar', 'sareaen',\n",
       "       'snaen', 'aren', 'bemp', 'act'],\n",
       "      dtype='object')"
      ]
     },
     "execution_count": 52,
     "metadata": {},
     "output_type": "execute_result"
    }
   ],
   "source": [
    "name=list(df.columns)\n",
    "name=df.columns\n",
    "# df.drop('sno',axis=1)\n",
    "name"
   ]
  },
  {
   "cell_type": "code",
   "execution_count": 23,
   "metadata": {},
   "outputs": [
    {
     "name": "stdout",
     "output_type": "stream",
     "text": [
      "<class 'pandas.core.frame.DataFrame'> <class 'pandas.core.indexes.numeric.Int64Index'>\n"
     ]
    }
   ],
   "source": [
    "df2=df[['sarea','sna','lat','lng','sbi','tot','act']]\n",
    "df2.set_index('sbi',inplace=True)\n",
    "df3=df2.index.map(int) \n",
    "print(type(df2),type(df3))\n",
    "# df2.head()"
   ]
  },
  {
   "cell_type": "code",
   "execution_count": 6,
   "metadata": {},
   "outputs": [
    {
     "name": "stdout",
     "output_type": "stream",
     "text": [
      "    sarea\n",
      "0     新店區\n",
      "1     汐止區\n",
      "2     汐止區\n",
      "3     汐止區\n",
      "4     新店區\n",
      "..    ...\n",
      "603   金山區\n",
      "604   樹林區\n",
      "605   中和區\n",
      "606   林口區\n",
      "607   板橋區\n",
      "\n",
      "[608 rows x 1 columns] (608, 7)\n",
      "0        大鵬華城\n",
      "1       汐止火車站\n",
      "2       汐止區公所\n",
      "3      國泰綜合醫院\n",
      "4        裕隆公園\n",
      "        ...  \n",
      "603       中角灣\n",
      "604    俊興三龍街口\n",
      "605     捷運景安站\n",
      "606    林口婦幼公園\n",
      "607      埤墘公園\n",
      "Name: sna, Length: 608, dtype: object\n",
      "  sarea\n",
      "1   汐止區\n"
     ]
    }
   ],
   "source": [
    "print(df2.iloc[:,[0]],df2.shape)\n",
    "print(df2['sna'])\n",
    "print(df2.iloc[[1],[0]])\n"
   ]
  },
  {
   "cell_type": "code",
   "execution_count": 7,
   "metadata": {},
   "outputs": [
    {
     "name": "stdout",
     "output_type": "stream",
     "text": [
      "RangeIndex(start=0, stop=608, step=1)\n"
     ]
    }
   ],
   "source": [
    "print(df2.index)"
   ]
  },
  {
   "cell_type": "code",
   "execution_count": 8,
   "metadata": {},
   "outputs": [
    {
     "name": "stdout",
     "output_type": "stream",
     "text": [
      "<bound method DataFrame.info of     sarea     sna        lat         lng sbi tot act\n",
      "0     新店區    大鵬華城   24.99116   121.53398   3  38   1\n",
      "1     汐止區   汐止火車站  25.068914  121.662748  50  56   1\n",
      "2     汐止區   汐止區公所  25.064162  121.658301   9  46   1\n",
      "3     汐止區  國泰綜合醫院   25.07315  121.662555  16  56   1\n",
      "4     新店區    裕隆公園  24.979649  121.546319  17  40   1\n",
      "..    ...     ...        ...         ...  ..  ..  ..\n",
      "603   金山區     中角灣  25.239000  121.632340  23  28   1\n",
      "604   樹林區  俊興三龍街口  25.017040  121.418210  14  30   1\n",
      "605   中和區   捷運景安站  24.993520  121.504720  43  82   1\n",
      "606   林口區  林口婦幼公園  25.072310  121.377520  10  30   1\n",
      "607   板橋區    埤墘公園  25.023320  121.474220  15  30   1\n",
      "\n",
      "[608 rows x 7 columns]>\n",
      "sno        608\n",
      "sna        608\n",
      "tot        608\n",
      "sbi        608\n",
      "sarea      608\n",
      "mday       608\n",
      "lat        608\n",
      "lng        608\n",
      "ar         608\n",
      "sareaen    608\n",
      "snaen      608\n",
      "aren       608\n",
      "bemp       608\n",
      "act        608\n",
      "dtype: int64\n"
     ]
    }
   ],
   "source": [
    "print(df2.info)\n",
    "print(df.count())"
   ]
  },
  {
   "cell_type": "code",
   "execution_count": 9,
   "metadata": {},
   "outputs": [
    {
     "data": {
      "text/plain": [
       "25018"
      ]
     },
     "execution_count": 9,
     "metadata": {},
     "output_type": "execute_result"
    }
   ],
   "source": [
    "# df3=df2['tot']\n",
    "# df3=list(df3)\n",
    "# test_list=[int(i)for i in df3]\n",
    "# sum(test_list)\n",
    "\n",
    "df3=[int(i)for i in list(df2['tot'])]\n",
    "sum(df3)\n"
   ]
  },
  {
   "cell_type": "code",
   "execution_count": 25,
   "metadata": {},
   "outputs": [
    {
     "ename": "KeyError",
     "evalue": "\"None of [Index(['新店區', '汐止區', '三重區', '新莊區', '蘆洲區', '中和區', '永和區', '板橋區', '泰山區', '土城區',\\n       '樹林區', '鶯歌區', '淡水區', '五股區', '三峽區', '林口區', '瑞芳區', '深坑區', '八里區', '金山區'],\\n      dtype='object', name='sbi')] are in the [index]\"",
     "output_type": "error",
     "traceback": [
      "\u001b[0;31m---------------------------------------------------------------------------\u001b[0m",
      "\u001b[0;31mKeyError\u001b[0m                                  Traceback (most recent call last)",
      "\u001b[0;32m<ipython-input-25-37713725a3e0>\u001b[0m in \u001b[0;36m<module>\u001b[0;34m\u001b[0m\n\u001b[1;32m      1\u001b[0m \u001b[0mx\u001b[0m\u001b[0;34m=\u001b[0m\u001b[0mlist\u001b[0m\u001b[0;34m(\u001b[0m\u001b[0mdf2\u001b[0m\u001b[0;34m[\u001b[0m\u001b[0;34m'sarea'\u001b[0m\u001b[0;34m]\u001b[0m\u001b[0;34m.\u001b[0m\u001b[0munique\u001b[0m\u001b[0;34m(\u001b[0m\u001b[0;34m)\u001b[0m\u001b[0;34m)\u001b[0m\u001b[0;34m\u001b[0m\u001b[0;34m\u001b[0m\u001b[0m\n\u001b[0;32m----> 2\u001b[0;31m \u001b[0mdf5\u001b[0m\u001b[0;34m=\u001b[0m\u001b[0mdf2\u001b[0m\u001b[0;34m.\u001b[0m\u001b[0mloc\u001b[0m\u001b[0;34m[\u001b[0m\u001b[0mx\u001b[0m\u001b[0;34m,\u001b[0m\u001b[0;34m:\u001b[0m\u001b[0;34m]\u001b[0m\u001b[0;34m\u001b[0m\u001b[0;34m\u001b[0m\u001b[0m\n\u001b[0m\u001b[1;32m      3\u001b[0m \u001b[0;31m# df4=df2.sort_index\u001b[0m\u001b[0;34m\u001b[0m\u001b[0;34m\u001b[0m\u001b[0;34m\u001b[0m\u001b[0m\n",
      "\u001b[0;32m~/anaconda3/envs/scrappy/lib/python3.7/site-packages/pandas/core/indexing.py\u001b[0m in \u001b[0;36m__getitem__\u001b[0;34m(self, key)\u001b[0m\n\u001b[1;32m   1760\u001b[0m                 \u001b[0;32mexcept\u001b[0m \u001b[0;34m(\u001b[0m\u001b[0mKeyError\u001b[0m\u001b[0;34m,\u001b[0m \u001b[0mIndexError\u001b[0m\u001b[0;34m,\u001b[0m \u001b[0mAttributeError\u001b[0m\u001b[0;34m)\u001b[0m\u001b[0;34m:\u001b[0m\u001b[0;34m\u001b[0m\u001b[0;34m\u001b[0m\u001b[0m\n\u001b[1;32m   1761\u001b[0m                     \u001b[0;32mpass\u001b[0m\u001b[0;34m\u001b[0m\u001b[0;34m\u001b[0m\u001b[0m\n\u001b[0;32m-> 1762\u001b[0;31m             \u001b[0;32mreturn\u001b[0m \u001b[0mself\u001b[0m\u001b[0;34m.\u001b[0m\u001b[0m_getitem_tuple\u001b[0m\u001b[0;34m(\u001b[0m\u001b[0mkey\u001b[0m\u001b[0;34m)\u001b[0m\u001b[0;34m\u001b[0m\u001b[0;34m\u001b[0m\u001b[0m\n\u001b[0m\u001b[1;32m   1763\u001b[0m         \u001b[0;32melse\u001b[0m\u001b[0;34m:\u001b[0m\u001b[0;34m\u001b[0m\u001b[0;34m\u001b[0m\u001b[0m\n\u001b[1;32m   1764\u001b[0m             \u001b[0;31m# we by definition only have the 0th axis\u001b[0m\u001b[0;34m\u001b[0m\u001b[0;34m\u001b[0m\u001b[0;34m\u001b[0m\u001b[0m\n",
      "\u001b[0;32m~/anaconda3/envs/scrappy/lib/python3.7/site-packages/pandas/core/indexing.py\u001b[0m in \u001b[0;36m_getitem_tuple\u001b[0;34m(self, tup)\u001b[0m\n\u001b[1;32m   1287\u001b[0m                 \u001b[0;32mcontinue\u001b[0m\u001b[0;34m\u001b[0m\u001b[0;34m\u001b[0m\u001b[0m\n\u001b[1;32m   1288\u001b[0m \u001b[0;34m\u001b[0m\u001b[0m\n\u001b[0;32m-> 1289\u001b[0;31m             \u001b[0mretval\u001b[0m \u001b[0;34m=\u001b[0m \u001b[0mgetattr\u001b[0m\u001b[0;34m(\u001b[0m\u001b[0mretval\u001b[0m\u001b[0;34m,\u001b[0m \u001b[0mself\u001b[0m\u001b[0;34m.\u001b[0m\u001b[0mname\u001b[0m\u001b[0;34m)\u001b[0m\u001b[0;34m.\u001b[0m\u001b[0m_getitem_axis\u001b[0m\u001b[0;34m(\u001b[0m\u001b[0mkey\u001b[0m\u001b[0;34m,\u001b[0m \u001b[0maxis\u001b[0m\u001b[0;34m=\u001b[0m\u001b[0mi\u001b[0m\u001b[0;34m)\u001b[0m\u001b[0;34m\u001b[0m\u001b[0;34m\u001b[0m\u001b[0m\n\u001b[0m\u001b[1;32m   1290\u001b[0m \u001b[0;34m\u001b[0m\u001b[0m\n\u001b[1;32m   1291\u001b[0m         \u001b[0;32mreturn\u001b[0m \u001b[0mretval\u001b[0m\u001b[0;34m\u001b[0m\u001b[0;34m\u001b[0m\u001b[0m\n",
      "\u001b[0;32m~/anaconda3/envs/scrappy/lib/python3.7/site-packages/pandas/core/indexing.py\u001b[0m in \u001b[0;36m_getitem_axis\u001b[0;34m(self, key, axis)\u001b[0m\n\u001b[1;32m   1952\u001b[0m                     \u001b[0;32mraise\u001b[0m \u001b[0mValueError\u001b[0m\u001b[0;34m(\u001b[0m\u001b[0;34m\"Cannot index with multidimensional key\"\u001b[0m\u001b[0;34m)\u001b[0m\u001b[0;34m\u001b[0m\u001b[0;34m\u001b[0m\u001b[0m\n\u001b[1;32m   1953\u001b[0m \u001b[0;34m\u001b[0m\u001b[0m\n\u001b[0;32m-> 1954\u001b[0;31m                 \u001b[0;32mreturn\u001b[0m \u001b[0mself\u001b[0m\u001b[0;34m.\u001b[0m\u001b[0m_getitem_iterable\u001b[0m\u001b[0;34m(\u001b[0m\u001b[0mkey\u001b[0m\u001b[0;34m,\u001b[0m \u001b[0maxis\u001b[0m\u001b[0;34m=\u001b[0m\u001b[0maxis\u001b[0m\u001b[0;34m)\u001b[0m\u001b[0;34m\u001b[0m\u001b[0;34m\u001b[0m\u001b[0m\n\u001b[0m\u001b[1;32m   1955\u001b[0m \u001b[0;34m\u001b[0m\u001b[0m\n\u001b[1;32m   1956\u001b[0m             \u001b[0;31m# nested tuple slicing\u001b[0m\u001b[0;34m\u001b[0m\u001b[0;34m\u001b[0m\u001b[0;34m\u001b[0m\u001b[0m\n",
      "\u001b[0;32m~/anaconda3/envs/scrappy/lib/python3.7/site-packages/pandas/core/indexing.py\u001b[0m in \u001b[0;36m_getitem_iterable\u001b[0;34m(self, key, axis)\u001b[0m\n\u001b[1;32m   1593\u001b[0m         \u001b[0;32melse\u001b[0m\u001b[0;34m:\u001b[0m\u001b[0;34m\u001b[0m\u001b[0;34m\u001b[0m\u001b[0m\n\u001b[1;32m   1594\u001b[0m             \u001b[0;31m# A collection of keys\u001b[0m\u001b[0;34m\u001b[0m\u001b[0;34m\u001b[0m\u001b[0;34m\u001b[0m\u001b[0m\n\u001b[0;32m-> 1595\u001b[0;31m             \u001b[0mkeyarr\u001b[0m\u001b[0;34m,\u001b[0m \u001b[0mindexer\u001b[0m \u001b[0;34m=\u001b[0m \u001b[0mself\u001b[0m\u001b[0;34m.\u001b[0m\u001b[0m_get_listlike_indexer\u001b[0m\u001b[0;34m(\u001b[0m\u001b[0mkey\u001b[0m\u001b[0;34m,\u001b[0m \u001b[0maxis\u001b[0m\u001b[0;34m,\u001b[0m \u001b[0mraise_missing\u001b[0m\u001b[0;34m=\u001b[0m\u001b[0;32mFalse\u001b[0m\u001b[0;34m)\u001b[0m\u001b[0;34m\u001b[0m\u001b[0;34m\u001b[0m\u001b[0m\n\u001b[0m\u001b[1;32m   1596\u001b[0m             return self.obj._reindex_with_indexers(\n\u001b[1;32m   1597\u001b[0m                 \u001b[0;34m{\u001b[0m\u001b[0maxis\u001b[0m\u001b[0;34m:\u001b[0m \u001b[0;34m[\u001b[0m\u001b[0mkeyarr\u001b[0m\u001b[0;34m,\u001b[0m \u001b[0mindexer\u001b[0m\u001b[0;34m]\u001b[0m\u001b[0;34m}\u001b[0m\u001b[0;34m,\u001b[0m \u001b[0mcopy\u001b[0m\u001b[0;34m=\u001b[0m\u001b[0;32mTrue\u001b[0m\u001b[0;34m,\u001b[0m \u001b[0mallow_dups\u001b[0m\u001b[0;34m=\u001b[0m\u001b[0;32mTrue\u001b[0m\u001b[0;34m\u001b[0m\u001b[0;34m\u001b[0m\u001b[0m\n",
      "\u001b[0;32m~/anaconda3/envs/scrappy/lib/python3.7/site-packages/pandas/core/indexing.py\u001b[0m in \u001b[0;36m_get_listlike_indexer\u001b[0;34m(self, key, axis, raise_missing)\u001b[0m\n\u001b[1;32m   1551\u001b[0m \u001b[0;34m\u001b[0m\u001b[0m\n\u001b[1;32m   1552\u001b[0m         self._validate_read_indexer(\n\u001b[0;32m-> 1553\u001b[0;31m             \u001b[0mkeyarr\u001b[0m\u001b[0;34m,\u001b[0m \u001b[0mindexer\u001b[0m\u001b[0;34m,\u001b[0m \u001b[0mo\u001b[0m\u001b[0;34m.\u001b[0m\u001b[0m_get_axis_number\u001b[0m\u001b[0;34m(\u001b[0m\u001b[0maxis\u001b[0m\u001b[0;34m)\u001b[0m\u001b[0;34m,\u001b[0m \u001b[0mraise_missing\u001b[0m\u001b[0;34m=\u001b[0m\u001b[0mraise_missing\u001b[0m\u001b[0;34m\u001b[0m\u001b[0;34m\u001b[0m\u001b[0m\n\u001b[0m\u001b[1;32m   1554\u001b[0m         )\n\u001b[1;32m   1555\u001b[0m         \u001b[0;32mreturn\u001b[0m \u001b[0mkeyarr\u001b[0m\u001b[0;34m,\u001b[0m \u001b[0mindexer\u001b[0m\u001b[0;34m\u001b[0m\u001b[0;34m\u001b[0m\u001b[0m\n",
      "\u001b[0;32m~/anaconda3/envs/scrappy/lib/python3.7/site-packages/pandas/core/indexing.py\u001b[0m in \u001b[0;36m_validate_read_indexer\u001b[0;34m(self, key, indexer, axis, raise_missing)\u001b[0m\n\u001b[1;32m   1638\u001b[0m             \u001b[0;32mif\u001b[0m \u001b[0mmissing\u001b[0m \u001b[0;34m==\u001b[0m \u001b[0mlen\u001b[0m\u001b[0;34m(\u001b[0m\u001b[0mindexer\u001b[0m\u001b[0;34m)\u001b[0m\u001b[0;34m:\u001b[0m\u001b[0;34m\u001b[0m\u001b[0;34m\u001b[0m\u001b[0m\n\u001b[1;32m   1639\u001b[0m                 \u001b[0maxis_name\u001b[0m \u001b[0;34m=\u001b[0m \u001b[0mself\u001b[0m\u001b[0;34m.\u001b[0m\u001b[0mobj\u001b[0m\u001b[0;34m.\u001b[0m\u001b[0m_get_axis_name\u001b[0m\u001b[0;34m(\u001b[0m\u001b[0maxis\u001b[0m\u001b[0;34m)\u001b[0m\u001b[0;34m\u001b[0m\u001b[0;34m\u001b[0m\u001b[0m\n\u001b[0;32m-> 1640\u001b[0;31m                 \u001b[0;32mraise\u001b[0m \u001b[0mKeyError\u001b[0m\u001b[0;34m(\u001b[0m\u001b[0;34mf\"None of [{key}] are in the [{axis_name}]\"\u001b[0m\u001b[0;34m)\u001b[0m\u001b[0;34m\u001b[0m\u001b[0;34m\u001b[0m\u001b[0m\n\u001b[0m\u001b[1;32m   1641\u001b[0m \u001b[0;34m\u001b[0m\u001b[0m\n\u001b[1;32m   1642\u001b[0m             \u001b[0;31m# We (temporarily) allow for some missing keys with .loc, except in\u001b[0m\u001b[0;34m\u001b[0m\u001b[0;34m\u001b[0m\u001b[0;34m\u001b[0m\u001b[0m\n",
      "\u001b[0;31mKeyError\u001b[0m: \"None of [Index(['新店區', '汐止區', '三重區', '新莊區', '蘆洲區', '中和區', '永和區', '板橋區', '泰山區', '土城區',\\n       '樹林區', '鶯歌區', '淡水區', '五股區', '三峽區', '林口區', '瑞芳區', '深坑區', '八里區', '金山區'],\\n      dtype='object', name='sbi')] are in the [index]\""
     ]
    }
   ],
   "source": [
    "x=list(df2['sarea'].unique())\n",
    "df5=df2.loc[x,:]\n",
    "# df4=df2.sort_index\n"
   ]
  },
  {
   "cell_type": "code",
   "execution_count": 11,
   "metadata": {},
   "outputs": [
    {
     "name": "stdout",
     "output_type": "stream",
     "text": [
      "<class 'list'>\n"
     ]
    }
   ],
   "source": [
    "# removeDuplicate=list(dict.fromkeys(list(df2['sarea'])))\n",
    "removeUnique=list(df2['sarea'].unique())\n",
    "print(type(removeUnique))"
   ]
  },
  {
   "cell_type": "code",
   "execution_count": null,
   "metadata": {},
   "outputs": [],
   "source": []
  },
  {
   "cell_type": "code",
   "execution_count": null,
   "metadata": {},
   "outputs": [],
   "source": []
  }
 ],
 "metadata": {
  "kernelspec": {
   "display_name": "Python 3",
   "language": "python",
   "name": "python3"
  },
  "language_info": {
   "codemirror_mode": {
    "name": "ipython",
    "version": 3
   },
   "file_extension": ".py",
   "mimetype": "text/x-python",
   "name": "python",
   "nbconvert_exporter": "python",
   "pygments_lexer": "ipython3",
   "version": "3.7.4"
  }
 },
 "nbformat": 4,
 "nbformat_minor": 4
}
