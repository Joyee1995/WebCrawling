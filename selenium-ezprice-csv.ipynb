{
 "cells": [
  {
   "cell_type": "code",
   "execution_count": 1,
   "metadata": {},
   "outputs": [],
   "source": [
    "from selenium import webdriver\n",
    "from selenium.webdriver.support.wait import WebDriverWait\n",
    "from selenium.webdriver.support import expected_conditions as EC\n",
    "from selenium.webdriver.common.by import By\n",
    "from bs4 import BeautifulSoup as bs\n",
    "import os\n",
    "import time\n",
    "import csv\n",
    "import pandas as pd\n",
    "\n"
   ]
  },
  {
   "cell_type": "code",
   "execution_count": 7,
   "metadata": {},
   "outputs": [],
   "source": [
    "path='/Users/Joyee/Desktop/chromedriver'\n",
    "driver=webdriver.Chrome(executable_path=path)\n",
    "url = 'https://m.ezprice.com.tw/s/%E5%90%B9%E9%A2%A8%E6%A9%9F%20dyson/?p=1'\n",
    "driver.get(url)"
   ]
  },
  {
   "cell_type": "code",
   "execution_count": 15,
   "metadata": {},
   "outputs": [],
   "source": [
    "allitems=[]\n",
    "for i in range(20):\n",
    "    url = 'https://m.ezprice.com.tw/s/%E5%90%B9%E9%A2%A8%E6%A9%9F%20dyson/?p='+str(i)\n",
    "    driver.get(url)\n",
    "\n",
    "    raw_html = driver.page_source\n",
    "    soup = bs(raw_html, 'lxml')\n",
    "    items=[]\n",
    "    for i,p in enumerate(soup.select('.product-info-box'),1):\n",
    "        item=[]\n",
    "        item.append(p.h4.text)\n",
    "        item.append(p.strong.text.lstrip('$'))\n",
    "        shop=p.select('.shop-name')\n",
    "        for sh in shop:\n",
    "            item.append(sh.text)\n",
    "        items.append(item)\n",
    "for num,item in enumerate(allitems,1):\n",
    "    print(num,item)"
   ]
  },
  {
   "cell_type": "code",
   "execution_count": 16,
   "metadata": {},
   "outputs": [],
   "source": [
    "driver.quit()"
   ]
  },
  {
   "cell_type": "code",
   "execution_count": 14,
   "metadata": {},
   "outputs": [],
   "source": [
    "import csv\n",
    "\n",
    "with open('ezprice-selenium.csv','w',newline='')as f:\n",
    "    writer = csv.writer(f)\n",
    "    writer.writerow(('品項','價格','商家'))\n",
    "    for item in allitems:\n",
    "        writer.writerow((column for column in item))"
   ]
  },
  {
   "cell_type": "code",
   "execution_count": null,
   "metadata": {},
   "outputs": [],
   "source": []
  }
 ],
 "metadata": {
  "kernelspec": {
   "display_name": "Python 3",
   "language": "python",
   "name": "python3"
  },
  "language_info": {
   "codemirror_mode": {
    "name": "ipython",
    "version": 3
   },
   "file_extension": ".py",
   "mimetype": "text/x-python",
   "name": "python",
   "nbconvert_exporter": "python",
   "pygments_lexer": "ipython3",
   "version": "3.7.7"
  }
 },
 "nbformat": 4,
 "nbformat_minor": 4
}
