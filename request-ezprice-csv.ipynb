{
 "cells": [
  {
   "cell_type": "code",
   "execution_count": 1,
   "metadata": {},
   "outputs": [],
   "source": [
    "from bs4 import BeautifulSoup as bs\n",
    "import requests as rs"
   ]
  },
  {
   "cell_type": "code",
   "execution_count": 5,
   "metadata": {},
   "outputs": [],
   "source": [
    "query = '吹風機dyson'\n",
    "page = rs.get('https://m.ezprice.com.tw/s/'+query).text"
   ]
  },
  {
   "cell_type": "code",
   "execution_count": 46,
   "metadata": {},
   "outputs": [
    {
     "name": "stdout",
     "output_type": "stream",
     "text": [
      "1 ['送專用順髮梳★Dyson Supersonic 吹風機 HD01 (桃紅) 順髮梳版', '14600', '東森購物']\n",
      "2 ['戴森吹風機支架免打孔衛生間dyson風筒架電吹風收納架浴室置物架 NMS陽光好物', '1792', 'Yahoo超級商城']\n",
      "3 ['Dyson Supersonic 吹風機 HD01(紅色吹風機 限量金色禮盒)', '14600', 'udn買東西']\n",
      "4 ['國行Dyson戴森吹風機智慧溫控離子護髮電吹風HD01 HD03 Supersoni', '10166', '淘寶網']\n",
      "5 ['立式陳列收納架子 適用Dyson戴森吹風機支架 家用理發店金屬底座NMS 蘿莉小腳ㄚ', '2646', 'Yahoo超級商城']\n",
      "6 ['專用旅行袋 適用Dyson戴森吹風機收納袋 便攜整理盒子袋子旅行包 蘿莉小腳ㄚ', '826', 'Yahoo超級商城']\n",
      "7 ['立式陳列收納架子 適用Dyson戴森吹風機支架 家用理發店金屬底座 igo 玩轉3C旗艦館momo', '2646', 'momo摩天商城']\n",
      "8 ['dyson戴森吹風機收納盒子風筒整理包電吹風配件支架旅行收納盒便攜保護套皮質女簡約家用 免運', '1777', 'momo摩天商城']\n",
      "9 ['Dyson 戴森吹風機收納包HD01收納袋收納盒電吹風機支架旅行便攜套 小桃美衣', '944', 'momo摩天商城']\n",
      "10 ['立式陳列收納架子 適用Dyson戴森吹風機支架 家用理發店金屬底座     igo 小桃美衣', '2148', 'momo摩天商城']\n",
      "11 ['Dyson 戴森吹風機收納包HD01收納袋收納盒電吹風機支架旅行便攜套潮男时尚', '944', 'momo摩天商城']\n",
      "12 ['Dyson  吹風機支架磁性吸力免打孔可釘可黏沙龍家用專業陳列架    igo', '1417', 'momo摩天商城']\n",
      "13 ['【深藍色禮盒限定版，12/31前回函送戴森2千券】dyson 戴森 ( HD01/P ) Supersonic 吹風機-桃紅款 原廠公司貨', '14600', 'momo摩天商城']\n",
      "14 ['dyson 戴森 ( Display Stand ) Supersonic 吹風機專用底座 -原廠公司貨', '3000', 'momo摩天商城']\n",
      "15 ['【12/31前回函再送戴森2千券】dyson 戴森 (HD01/W) Supersonic 吹風機-銀白款 原廠公司貨', '14600', 'momo摩天商城']\n",
      "16 ['【12/31前回函再送戴森2千券】dyson 戴森 ( HD01/PU ) Supersonic 吹風機-奢華紫 //絕版色// 原廠公司貨', '14600', 'momo摩天商城']\n",
      "17 ['DYSON\\xa0Dyson Supersonic HD01 吹風機桃紅色(附粉色精裝收納盒)', '14600', 'watsons屈臣氏']\n",
      "18 ['Dyson Supersonic™吹風機黑紫色禮盒', '16200', 'Dyson']\n",
      "19 ['Dyson Supersonic™吹風機黑紫色禮盒', '16200', 'Dyson']\n",
      "20 ['Dyson Supersonic™吹風機深藍色禮盒', '14600', 'Dyson']\n",
      "21 ['免打孔掛牆陳列收納架適用Dyson戴森吹風機支架牆壁掛架免釘架子ATF 享購', '1335', 'Yahoo超級商城']\n"
     ]
    }
   ],
   "source": [
    "soup = bs(page,'lxml')\n",
    "items=[]\n",
    "for i,p in enumerate(soup.select('.product-info-box'),1):\n",
    "    item=[]\n",
    "    item.append(p.h4.text)\n",
    "    item.append(p.strong.text.lstrip('$'))\n",
    "    shop=p.select('.shop-name')\n",
    "    for sh in shop:\n",
    "        item.append(sh.text)\n",
    "    items.append(item)\n",
    "for num,item in enumerate(items,1):\n",
    "    print(num,item)\n",
    "    \n",
    "    "
   ]
  },
  {
   "cell_type": "code",
   "execution_count": 49,
   "metadata": {},
   "outputs": [],
   "source": [
    "import csv\n",
    "\n",
    "with open('ezprice.csv','w', encoding='utf-8',newline='')as f:\n",
    "    writer = csv.writer(f)\n",
    "    writer.writerow(('品項','價格','商家'))\n",
    "    for item in items:\n",
    "        writer.writerow((column for column in item))"
   ]
  },
  {
   "cell_type": "code",
   "execution_count": null,
   "metadata": {},
   "outputs": [],
   "source": []
  }
 ],
 "metadata": {
  "kernelspec": {
   "display_name": "Python 3",
   "language": "python",
   "name": "python3"
  },
  "language_info": {
   "codemirror_mode": {
    "name": "ipython",
    "version": 3
   },
   "file_extension": ".py",
   "mimetype": "text/x-python",
   "name": "python",
   "nbconvert_exporter": "python",
   "pygments_lexer": "ipython3",
   "version": "3.7.7"
  }
 },
 "nbformat": 4,
 "nbformat_minor": 4
}
